{
 "cells": [
  {
   "cell_type": "code",
   "execution_count": null,
   "metadata": {},
   "outputs": [],
   "source": [
    "import geopandas as gpd\n",
    "import momepy\n",
    "import networkx as nx\n",
    "import numpy as np\n",
    "import vrpy\n",
    "from vrpy import *\n",
    "import matplotlib.pyplot as plt\n",
    "from contextily import add_basemap\n",
    "from libpysal import weights\n"
   ]
  },
  {
   "cell_type": "code",
   "execution_count": 2,
   "metadata": {},
   "outputs": [
    {
     "name": "stderr",
     "output_type": "stream",
     "text": [
      "ERROR:fiona._env:PROJ: proj_identify: Cannot find proj.db\n",
      "ERROR:fiona._env:PROJ: proj_identify: Cannot find proj.db\n",
      "ERROR:fiona._env:PROJ: proj_identify: Cannot find proj.db\n",
      "ERROR:fiona._env:PROJ: proj_identify: Cannot find proj.db\n",
      "ERROR:fiona._env:PROJ: proj_identify: Cannot find proj.db\n",
      "ERROR:fiona._env:PROJ: proj_identify: Cannot find proj.db\n"
     ]
    }
   ],
   "source": [
    "streets = gpd.read_file(r\"C:\\Users\\loque\\OneDrive - University of Twente\\Research\\SHP\\TM29_H94_2053\\230405_RoadNetwork_v5.shp\", crs=\"EPSG:2350\")\n",
    "start_point = gpd.read_file(r'C:\\Users\\loque\\OneDrive - University of Twente\\Research\\SHP\\TM29_H94_2053\\230307_landfillEntrance_2053.shp', crs=\"EPSG:2350\")\n",
    "collection_places = gpd.read_file(r'C:\\Users\\loque\\OneDrive - University of Twente\\Research\\SHP\\TM29_H94_2053\\230313_Containers_2053.shp', crs=\"EPSG:2350\")"
   ]
  }
 ],
 "metadata": {
  "kernelspec": {
   "display_name": "Python 3",
   "language": "python",
   "name": "python3"
  },
  "language_info": {
   "codemirror_mode": {
    "name": "ipython",
    "version": 3
   },
   "file_extension": ".py",
   "mimetype": "text/x-python",
   "name": "python",
   "nbconvert_exporter": "python",
   "pygments_lexer": "ipython3",
   "version": "3.11.3"
  },
  "orig_nbformat": 4
 },
 "nbformat": 4,
 "nbformat_minor": 2
}
